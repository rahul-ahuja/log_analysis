{
 "cells": [
  {
   "cell_type": "code",
   "execution_count": 1,
   "metadata": {},
   "outputs": [],
   "source": [
    "%matplotlib inline\n",
    "\n",
    "#import packages required\n",
    "import pandas as pd\n",
    "import matplotlib.pyplot as plt\n",
    "import numpy as np\n",
    "#import problems_unittests as tests\n",
    "from collections import defaultdict, Counter\n",
    "from sklearn.feature_extraction.text import CountVectorizer\n",
    "from sklearn.pipeline import Pipeline\n",
    "from sklearn.model_selection import GridSearchCV\n",
    "from sklearn.metrics import roc_auc_score, precision_score, recall_score, f1_score, confusion_matrix\n",
    "import numpy.ma as ma\n",
    "from xgboost import XGBClassifier\n",
    "from sklearn.preprocessing import StandardScaler, OneHotEncoder\n",
    "from sklearn.compose import ColumnTransformer\n",
    "from sklearn.pipeline import Pipeline\n",
    "from sklearn.utils import shuffle"
   ]
  },
  {
   "cell_type": "code",
   "execution_count": 4,
   "metadata": {},
   "outputs": [],
   "source": [
    "#reading csv files in pandas dataframe\n",
    "\n",
    "train_df = pd.read_csv('training.csv')\n",
    "train_df = shuffle(train_df) ##shuffling the data as I will not approach as a time series problem\n",
    "\n",
    "test_df = pd.read_csv('test.csv')"
   ]
  },
  {
   "cell_type": "code",
   "execution_count": 5,
   "metadata": {},
   "outputs": [
    {
     "data": {
      "text/html": [
       "<div>\n",
       "<style scoped>\n",
       "    .dataframe tbody tr th:only-of-type {\n",
       "        vertical-align: middle;\n",
       "    }\n",
       "\n",
       "    .dataframe tbody tr th {\n",
       "        vertical-align: top;\n",
       "    }\n",
       "\n",
       "    .dataframe thead th {\n",
       "        text-align: right;\n",
       "    }\n",
       "</style>\n",
       "<table border=\"1\" class=\"dataframe\">\n",
       "  <thead>\n",
       "    <tr style=\"text-align: right;\">\n",
       "      <th></th>\n",
       "      <th>timestamp</th>\n",
       "      <th>app</th>\n",
       "      <th>updated_at</th>\n",
       "      <th>detected_app</th>\n",
       "      <th>name</th>\n",
       "      <th>window</th>\n",
       "      <th>created_at</th>\n",
       "      <th>project_id</th>\n",
       "      <th>created_from</th>\n",
       "    </tr>\n",
       "  </thead>\n",
       "  <tbody>\n",
       "    <tr>\n",
       "      <th>76562</th>\n",
       "      <td>2018-03-14 14:13:20</td>\n",
       "      <td>Slack</td>\n",
       "      <td>2018-03-15 08:01:02</td>\n",
       "      <td>Slack</td>\n",
       "      <td>Memory</td>\n",
       "      <td>Slack - Memory</td>\n",
       "      <td>2018-03-15 08:00:32</td>\n",
       "      <td>2463090</td>\n",
       "      <td>Web</td>\n",
       "    </tr>\n",
       "    <tr>\n",
       "      <th>7122</th>\n",
       "      <td>2018-03-12 09:59:26</td>\n",
       "      <td>PyCharm</td>\n",
       "      <td>2018-03-13 08:10:53</td>\n",
       "      <td>PyCharm</td>\n",
       "      <td>PyCharm</td>\n",
       "      <td>ai-experiments [~/PycharmProjects/ai-experimen...</td>\n",
       "      <td>2018-03-13 08:09:21</td>\n",
       "      <td>2463090</td>\n",
       "      <td>Web</td>\n",
       "    </tr>\n",
       "    <tr>\n",
       "      <th>84291</th>\n",
       "      <td>2018-03-14 16:23:53</td>\n",
       "      <td>PyCharm</td>\n",
       "      <td>2018-03-15 08:00:53</td>\n",
       "      <td>PyCharm</td>\n",
       "      <td>PyCharm</td>\n",
       "      <td>ai-experiments [~/PycharmProjects/ai-experimen...</td>\n",
       "      <td>2018-03-15 08:00:53</td>\n",
       "      <td>2463090</td>\n",
       "      <td>Web</td>\n",
       "    </tr>\n",
       "    <tr>\n",
       "      <th>3757</th>\n",
       "      <td>2018-03-12 09:02:00</td>\n",
       "      <td>Slack</td>\n",
       "      <td>2018-03-13 08:10:44</td>\n",
       "      <td>Slack</td>\n",
       "      <td>Memory</td>\n",
       "      <td>Slack - Memory</td>\n",
       "      <td>2018-03-13 08:10:39</td>\n",
       "      <td>2463951</td>\n",
       "      <td>Web</td>\n",
       "    </tr>\n",
       "    <tr>\n",
       "      <th>185515</th>\n",
       "      <td>2018-03-21 16:06:14</td>\n",
       "      <td>PyCharm</td>\n",
       "      <td>2018-03-22 11:26:56</td>\n",
       "      <td>PyCharm</td>\n",
       "      <td>PyCharm</td>\n",
       "      <td>ai-experiments [~/PycharmProjects/ai-experimen...</td>\n",
       "      <td>2018-03-22 11:26:56</td>\n",
       "      <td>2463090</td>\n",
       "      <td>Web</td>\n",
       "    </tr>\n",
       "  </tbody>\n",
       "</table>\n",
       "</div>"
      ],
      "text/plain": [
       "                  timestamp      app           updated_at detected_app  \\\n",
       "76562   2018-03-14 14:13:20    Slack  2018-03-15 08:01:02        Slack   \n",
       "7122    2018-03-12 09:59:26  PyCharm  2018-03-13 08:10:53      PyCharm   \n",
       "84291   2018-03-14 16:23:53  PyCharm  2018-03-15 08:00:53      PyCharm   \n",
       "3757    2018-03-12 09:02:00    Slack  2018-03-13 08:10:44        Slack   \n",
       "185515  2018-03-21 16:06:14  PyCharm  2018-03-22 11:26:56      PyCharm   \n",
       "\n",
       "           name                                             window  \\\n",
       "76562    Memory                                     Slack - Memory   \n",
       "7122    PyCharm  ai-experiments [~/PycharmProjects/ai-experimen...   \n",
       "84291   PyCharm  ai-experiments [~/PycharmProjects/ai-experimen...   \n",
       "3757     Memory                                     Slack - Memory   \n",
       "185515  PyCharm  ai-experiments [~/PycharmProjects/ai-experimen...   \n",
       "\n",
       "                 created_at  project_id created_from  \n",
       "76562   2018-03-15 08:00:32     2463090          Web  \n",
       "7122    2018-03-13 08:09:21     2463090          Web  \n",
       "84291   2018-03-15 08:00:53     2463090          Web  \n",
       "3757    2018-03-13 08:10:39     2463951          Web  \n",
       "185515  2018-03-22 11:26:56     2463090          Web  "
      ]
     },
     "execution_count": 5,
     "metadata": {},
     "output_type": "execute_result"
    }
   ],
   "source": [
    "train_df.head()"
   ]
  },
  {
   "cell_type": "markdown",
   "metadata": {},
   "source": [
    "The above is the training dataframe. I will separate out the \"project_id\" from the features to use id as a label along with encoding it. Below is the label distribution;"
   ]
  },
  {
   "cell_type": "code",
   "execution_count": 4,
   "metadata": {},
   "outputs": [
    {
     "data": {
      "text/plain": [
       "2463090    212503\n",
       "2533532     15391\n",
       "2463951      6560\n",
       "2463103      5301\n",
       "2463091      4201\n",
       "Name: project_id, dtype: int64"
      ]
     },
     "execution_count": 4,
     "metadata": {},
     "output_type": "execute_result"
    }
   ],
   "source": [
    "train_df['project_id'].value_counts()"
   ]
  },
  {
   "cell_type": "code",
   "execution_count": 5,
   "metadata": {},
   "outputs": [
    {
     "name": "stdout",
     "output_type": "stream",
     "text": [
      "Tests Passed\n"
     ]
    }
   ],
   "source": [
    "def labels(df):\n",
    "    \"\"\"\n",
    "    Args:\n",
    "    df: Pandas DataFrame of input file\n",
    "    Return: list of labels \n",
    "    \"\"\"\n",
    "    encoding_map = {2463091:0, 2463103:1, 2463951:2, 2533532:3, 2463090:4} \n",
    "    #large integers take up memory so encoding with single digit\n",
    "    df = df['project_id'].replace(encoding_map)\n",
    "    return df\n",
    "\n",
    "tests.test_labels(labels)"
   ]
  },
  {
   "cell_type": "code",
   "execution_count": 6,
   "metadata": {},
   "outputs": [
    {
     "data": {
      "image/png": "[encoded data removed]",
      "text/plain": [
       "<Figure size 432x288 with 1 Axes>"
      ]
     },
     "metadata": {},
     "output_type": "display_data"
    }
   ],
   "source": [
    "train_y = labels(train_df)\n",
    "test_y = labels(test_df)\n",
    "\n",
    "\n",
    "plt.hist(train_y)\n",
    "plt.title(\"class distribution\");"
   ]
  },
  {
   "cell_type": "markdown",
   "metadata": {},
   "source": [
    "As we can see the distribution of the labels is imbalanced so the accuracy level may not always be the appropriate metrics. There can be other better metrics like Precision, Recall, F1 score, ROC AUC or Confusion Matrix which may indicate if the model is performing good or not.\n",
    "\n",
    "We use these metrics that tell us the number of false positives and false negatives.\n",
    "\n",
    "This means that we should optimize for:\n",
    "\n",
    "high recall (true positive rate) low fall-out (false positive rate)\n",
    "\n",
    "We can calculate false positive rate and true positive rate, using the numbers of true positives, true negatives, false negatives, and false positives.\n",
    "\n",
    "False positive rate is the number of false positives divided by the number of false positives plus the number of true negatives.\n",
    "\n",
    "fpr = fp / (fp + tn)\n",
    "\n",
    "True positive rate is the number of true positives divided by the number of true positives plus the number of false negatives.\n",
    "\n",
    "tpr = tp / (tp + fn)\n",
    "\n",
    "Reference https://www.dataquest.io\n",
    "\n",
    "The ROC Curve has the True Positive Rate tpr on the y-axis and the False Positive Rate fpr on the x-axis of a plot.\n"
   ]
  },
  {
   "cell_type": "markdown",
   "metadata": {},
   "source": [
    "## Which features did you select? Why?\n"
   ]
  },
  {
   "cell_type": "markdown",
   "metadata": {},
   "source": [
    "Checking if the \"app\", \"detected_app\" and \"name\" columns have same values across rows. \"app\" and \"detected_app\" are same across all the rows. As a result, I decided to drop \"detected_app\" feature"
   ]
  },
  {
   "cell_type": "code",
   "execution_count": 7,
   "metadata": {},
   "outputs": [
    {
     "data": {
      "text/plain": [
       "True"
      ]
     },
     "execution_count": 7,
     "metadata": {},
     "output_type": "execute_result"
    }
   ],
   "source": [
    "train_df['app'].equals(train_df['detected_app'])"
   ]
  },
  {
   "cell_type": "code",
   "execution_count": 8,
   "metadata": {},
   "outputs": [
    {
     "data": {
      "text/plain": [
       "False"
      ]
     },
     "execution_count": 8,
     "metadata": {},
     "output_type": "execute_result"
    }
   ],
   "source": [
    "train_df['app'].equals(train_df['name'])"
   ]
  },
  {
   "cell_type": "markdown",
   "metadata": {},
   "source": [
    "\"app\" feature seems to be a condensed information of \"name\" column so I will drop \"app\" feature."
   ]
  },
  {
   "cell_type": "code",
   "execution_count": 9,
   "metadata": {},
   "outputs": [
    {
     "data": {
      "text/plain": [
       "array(['github.com', 'wildml.com', 'PyCharm', 'calendar.google.com',\n",
       "       'zoom.us', 'TextEdit', 'iTerm2', 'Basecamp 3',\n",
       "       'amplitude.zendesk.com', 'memory.workable.com', 'bigmarker.com',\n",
       "       'Memory', 'Slack', 'noop.in', 'Calendar', 'Mail',\n",
       "       'stackoverflow.com', 'no.ambafrance.org', 'app.clubhouse.io',\n",
       "       'Skype', 'outlook.live.com', 'Finder', 'tutorialspoint.com',\n",
       "       'Preview', 'blog.echen.me', 'app.fullstory.com', 'Python',\n",
       "       'arxiv.org', 'MySQLWorkbench', 'Notes', 'docs.google.com',\n",
       "       'psutil.readthedocs.io', 'app.timelyapp.com', 'docs.python.org',\n",
       "       'dont-be-afraid-to-commit.readthedocs.io', 'app.intercom.io',\n",
       "       'analytics.amplitude.com', 'intellij-support.jetbrains.com',\n",
       "       'tensorflow.org', 'Untitled', 'skype.com', 'bbc.com',\n",
       "       'youtube.com', 'docs.scipy.org', 'developer.atlassian.com',\n",
       "       '127.0.0.1', 'thegeekstuff.com',\n",
       "       'leonardoaraujosantos.gitbooks.io', 'git-scm.com', 'finn.no',\n",
       "       'Evernote', 'dev.mysql.com', 'fullstory.com', 'coda.io',\n",
       "       'google.no', 'miyako-odori.jp', 'matplotlib.org', 'newtab',\n",
       "       'reverso.net', '3.basecamp.com', 'Mendeley Desktop',\n",
       "       'Data Science Oslo', 'blog.github.com', 'Acrobat Reader', 'IDLE',\n",
       "       'support.apple.com', 'iclr.cc', 'ruder.io', 'python.org',\n",
       "       'confluence.atlassian.com', 'docs.aws.amazon.com', 'Dashlane',\n",
       "       'Google Chrome', 'askubuntu.com', 'jeffknupp.com', 'Pages',\n",
       "       'mathfaculty.fullerton.edu', 'payment.schibsted.no',\n",
       "       'militarytimechart.com', 'ruter.no', 'semver.org', 'facebook.com',\n",
       "       'medium.com', 'hertzbilpool.no', 'aws.amazon.com',\n",
       "       'yangsu.github.io', 'nasjonalmuseet.no', 'machinelearninguru.com',\n",
       "       'help.github.com', 'gitpython.readthedocs.io', 'npmjs.com',\n",
       "       'pythonforbeginners.com', 'cs.toronto.edu', 'Reminders',\n",
       "       'wiki.python.org', 'douchebags.com',\n",
       "       'fdjamakpfbbddfjaooikfcpapjohcfmg', 'bugs.python.org',\n",
       "       'twitter.com', 'docs.python-guide.org', 'idporten.difi.no',\n",
       "       'jetbrains.com', 'awc.com.my', 'toll.no', 'scivision.co',\n",
       "       'mendeley.com', 'community.atlassian.com',\n",
       "       'georgemdallas.wordpress.com', 'localhost', 'refworld.org',\n",
       "       'replicon.com', 'dropbox.com', 'en.wiktionary.org', 'Sonos',\n",
       "       'memoryai.slack.com', 'machinelearningmastery.com', 'Calculator',\n",
       "       'Edit', 'linux.com', 'thesaurus.com', 'coreautha', 'linfo.org',\n",
       "       'macmillandictionary.com', 'eaie.org', 'login.live.com',\n",
       "       'drive.google.com', 'raw.githubusercontent.com', 'anandology.com',\n",
       "       'google.com',\n",
       "       'file:///Users/pierrick/Downloads/Wide_Deep_Tutorial_-_Richu_A_Kuttikattu.pdf',\n",
       "       'System Preferences', 'Choose a Template', 'merriam-webster.com',\n",
       "       'delightlylinux.wordpress.com', 'CoreServicesUIAgent',\n",
       "       'support.jobbnorge.no', 'transferwise.com', 'gist.github.com',\n",
       "       'pypi.python.org', 'hub.no', 'keepachangelog.com', 'coderwall.com',\n",
       "       'gitbook.com', 'cron-job.org', '169.254.169.254',\n",
       "       'marketing.intercomcdn.com', 'atlassian.com', 'linux.die.net',\n",
       "       'cuyu.github.io', 'en.wikibooks.org', 'accounts.google.com',\n",
       "       'Activity Monitor', 'larousse.fr', 'Evernote Helper',\n",
       "       'via.intercom-mail-300.com', 'docs.gitlab.com',\n",
       "       'gordoncluster.wordpress.com', 'File', 'vim.wikia.com',\n",
       "       'scipy-cookbook.readthedocs.io', 'nimber.com', 'en.wikipedia.org',\n",
       "       'softwareengineering.stackexchange.com', 'Spelling and Grammar',\n",
       "       'reddit.com', 'Apple', 'nokut.no', 'regjeringen.no',\n",
       "       'pandas.pydata.org', 'glowingpython.blogspot.no', 'lifewire.com',\n",
       "       'workable.com', 'superuser.com', 'Open',\n",
       "       'via.intercom-mail-100.com', '\\uf8ff', 'ec1.bigmarker.com',\n",
       "       'telecom-paristech.fr', 'glowingpython.blogspot.com',\n",
       "       'VoiceOver Quickstart', 'Insert', 'History', 'rigtorp.se',\n",
       "       'pythonhosted.org', 'Canvas Menu', 'Window', 'amplitude.com',\n",
       "       'Memory Tracker by Timely'], dtype=object)"
      ]
     },
     "execution_count": 9,
     "metadata": {},
     "output_type": "execute_result"
    }
   ],
   "source": [
    "train_df['name'].unique()"
   ]
  },
  {
   "cell_type": "code",
   "execution_count": 10,
   "metadata": {},
   "outputs": [
    {
     "data": {
      "text/plain": [
       "array(['Google Chrome', 'PyCharm', 'zoom.us', 'TextEdit', 'iTerm2',\n",
       "       'Basecamp 3', 'Slack', 'Calendar', 'Mail', 'Skype', 'Finder',\n",
       "       'Preview', 'Python', 'MySQLWorkbench', 'Notes', 'Pages',\n",
       "       'Evernote', 'Mendeley Desktop', 'Acrobat Reader', 'IDLE',\n",
       "       'Dashlane', 'Reminders', 'Sonos', 'Calculator', 'coreautha',\n",
       "       'System Preferences', 'CoreServicesUIAgent', 'Activity Monitor',\n",
       "       'Evernote Helper', 'VoiceOver Quickstart',\n",
       "       'Memory Tracker by Timely'], dtype=object)"
      ]
     },
     "execution_count": 10,
     "metadata": {},
     "output_type": "execute_result"
    }
   ],
   "source": [
    "train_df['app'].unique()"
   ]
  },
  {
   "cell_type": "markdown",
   "metadata": {},
   "source": [
    "\"web\" has just one value for all the rows so dropping that as well."
   ]
  },
  {
   "cell_type": "code",
   "execution_count": 11,
   "metadata": {},
   "outputs": [
    {
     "name": "stdout",
     "output_type": "stream",
     "text": [
      "Web    243956\n",
      "Name: created_from, dtype: int64\n"
     ]
    }
   ],
   "source": [
    "print(train_df['created_from'].value_counts())"
   ]
  },
  {
   "cell_type": "markdown",
   "metadata": {},
   "source": [
    "Looking for missing values across all the columns"
   ]
  },
  {
   "cell_type": "code",
   "execution_count": 12,
   "metadata": {},
   "outputs": [
    {
     "name": "stdout",
     "output_type": "stream",
     "text": [
      "\n",
      "Number of Nulls in column of timestamp\n",
      "False    243956\n",
      "Name: timestamp, dtype: int64\n",
      "\n",
      "Number of Nulls in column of app\n",
      "False    243956\n",
      "Name: app, dtype: int64\n",
      "\n",
      "Number of Nulls in column of updated_at\n",
      "False    243956\n",
      "Name: updated_at, dtype: int64\n",
      "\n",
      "Number of Nulls in column of detected_app\n",
      "False    243956\n",
      "Name: detected_app, dtype: int64\n",
      "\n",
      "Number of Nulls in column of name\n",
      "False    243956\n",
      "Name: name, dtype: int64\n",
      "\n",
      "Number of Nulls in column of window\n",
      "False    234246\n",
      "True       9710\n",
      "Name: window, dtype: int64\n",
      "\n",
      "Number of Nulls in column of created_at\n",
      "False    243956\n",
      "Name: created_at, dtype: int64\n",
      "\n",
      "Number of Nulls in column of project_id\n",
      "False    243956\n",
      "Name: project_id, dtype: int64\n",
      "\n",
      "Number of Nulls in column of created_from\n",
      "False    243956\n",
      "Name: created_from, dtype: int64\n"
     ]
    }
   ],
   "source": [
    "for col in train_df.columns.values:\n",
    "    print()\n",
    "    print(\"Number of Nulls in column of\", col)\n",
    "    print(train_df[col].isnull().value_counts())"
   ]
  },
  {
   "cell_type": "markdown",
   "metadata": {},
   "source": [
    "There are missing values only in the window column. \n",
    "\n",
    "I will create 2 features;\n",
    "\n",
    "1. rows that contains missing values in \"window\" feature is encoded as 1 else 0\n",
    "2. rows with \"app\" and \"name\" columns values not matched are encoded as 1 else 0"
   ]
  },
  {
   "cell_type": "code",
   "execution_count": 13,
   "metadata": {},
   "outputs": [],
   "source": [
    "train_df['missing_apps'] = train_df['app'][train_df['app'] != train_df['name']]\n",
    "test_df['missing_apps'] = test_df['app'][test_df['app'] != test_df['name']]"
   ]
  },
  {
   "cell_type": "code",
   "execution_count": 14,
   "metadata": {},
   "outputs": [],
   "source": [
    "train_df['missing_apps'] = train_df['missing_apps'].isnull().astype(int)\n",
    "test_df['missing_apps'] = test_df['missing_apps'].isnull().astype(int)"
   ]
  },
  {
   "cell_type": "code",
   "execution_count": 15,
   "metadata": {},
   "outputs": [],
   "source": [
    "train_df['window_missing'] = train_df['window'].isnull().astype(int)\n",
    "test_df['window_missing'] = test_df['window'].isnull().astype(int)"
   ]
  },
  {
   "cell_type": "markdown",
   "metadata": {},
   "source": [
    "#### I wanted to solve the problem as with the time series analysis by making the use of the time-based features (\"timestamps\" or \"created_at\" time features). I wanted to put the features of the previous timestamps as a lag using `pandas.shift` method but I noticed that many rows were duplicated if we treat timestamps as an unique identifers. So I thought of dropping the duplicated rows after dropping timestamps and approaching this problem as text analysis instead. I also felt that rows may not neccessarily be related to each other so it may not be time series problem in the first place. The training rows decreased from 243956 to 2768. As a result, I have to keep in mind about the curse of dimensionality while crafting more features."
   ]
  },
  {
   "cell_type": "code",
   "execution_count": 16,
   "metadata": {
    "scrolled": true
   },
   "outputs": [
    {
     "name": "stdout",
     "output_type": "stream",
     "text": [
      "Tests Passed\n"
     ]
    }
   ],
   "source": [
    "def extract_data(df, train_set=True):\n",
    "    \"\"\"\n",
    "    Args: df: DataFrame\n",
    "    train: Flag if it the data is training set or not\n",
    "    return DataFrame with columns to be used\n",
    "    \"\"\"\n",
    "    \n",
    "    #df = df.drop(['project_id', 'timestamp', 'detected_app' ], axis=1)\n",
    "    df = df.drop(['timestamp', 'detected_app', 'created_from', 'app'], axis=1)\n",
    "    if train_set:\n",
    "        df = df.drop_duplicates()\n",
    "    #converting the datetimed feature as datetime datatype instead of object\n",
    "    df['created_at'] = pd.DatetimeIndex(df['created_at'])\n",
    "    df['updated_at'] = pd.DatetimeIndex(df['updated_at'])\n",
    "    \n",
    "    return df\n",
    "\n",
    "tests.test_extract_data(extract_data)"
   ]
  },
  {
   "cell_type": "code",
   "execution_count": 17,
   "metadata": {},
   "outputs": [],
   "source": [
    "train_x = extract_data(train_df)\n",
    "test_x = extract_data(test_df, train_set=False)"
   ]
  },
  {
   "cell_type": "code",
   "execution_count": 18,
   "metadata": {},
   "outputs": [
    {
     "data": {
      "text/plain": [
       "(30885, 7)"
      ]
     },
     "execution_count": 18,
     "metadata": {},
     "output_type": "execute_result"
    }
   ],
   "source": [
    "test_x.shape"
   ]
  },
  {
   "cell_type": "code",
   "execution_count": 19,
   "metadata": {},
   "outputs": [
    {
     "data": {
      "text/plain": [
       "(2768, 7)"
      ]
     },
     "execution_count": 19,
     "metadata": {},
     "output_type": "execute_result"
    }
   ],
   "source": [
    "train_x.shape"
   ]
  },
  {
   "cell_type": "markdown",
   "metadata": {},
   "source": [
    "Created additional features out of time;\n",
    "\n",
    "1. Difference between \"updated\" and created time duration\n",
    "2. Extract \"minutes\" and \"seconds\" for both features\n",
    "3. Extract \"days\", \"hour\", and \"week\" of \"created_at\" feature "
   ]
  },
  {
   "cell_type": "code",
   "execution_count": 20,
   "metadata": {},
   "outputs": [],
   "source": [
    "train_x['update_duration'] = (train_x['updated_at'].values - train_x['created_at'].values) / np.timedelta64(1, 's')\n",
    "\n",
    "test_x['update_duration'] = (test_x['updated_at'].values - test_x['created_at'].values) / np.timedelta64(1, 's')"
   ]
  },
  {
   "cell_type": "code",
   "execution_count": 21,
   "metadata": {},
   "outputs": [
    {
     "name": "stdout",
     "output_type": "stream",
     "text": [
      "2018    2768\n",
      "Name: created_at, dtype: int64\n",
      "2018    2768\n",
      "Name: updated_at, dtype: int64\n"
     ]
    }
   ],
   "source": [
    "print(train_x['created_at'].dt.year.value_counts())\n",
    "print(train_x['updated_at'].dt.year.value_counts())"
   ]
  },
  {
   "cell_type": "code",
   "execution_count": 22,
   "metadata": {},
   "outputs": [
    {
     "name": "stdout",
     "output_type": "stream",
     "text": [
      "3    2768\n",
      "Name: created_at, dtype: int64\n",
      "3    2768\n",
      "Name: updated_at, dtype: int64\n"
     ]
    }
   ],
   "source": [
    "print(train_x['created_at'].dt.month.value_counts())\n",
    "print(train_x['updated_at'].dt.month.value_counts())"
   ]
  },
  {
   "cell_type": "markdown",
   "metadata": {},
   "source": [
    "It looks like within the same \"hour\"/\"day\"/\"week\" all the projects get created and updated. So I will consider only one feature of \"created_at\" for \"hour\"/\"day\"/\"week\""
   ]
  },
  {
   "cell_type": "code",
   "execution_count": 23,
   "metadata": {},
   "outputs": [
    {
     "data": {
      "image/png": "[encoded data removed]",
      "text/plain": [
       "<Figure size 432x288 with 1 Axes>"
      ]
     },
     "metadata": {},
     "output_type": "display_data"
    }
   ],
   "source": [
    "train_x['created_at'].dt.day.hist(alpha=0.5, label='created_at')\n",
    "train_x['updated_at'].dt.day.hist(alpha=0.5, label='updated_at')\n",
    "plt.title(\"Distribution of day\")\n",
    "plt.legend();"
   ]
  },
  {
   "cell_type": "code",
   "execution_count": 24,
   "metadata": {},
   "outputs": [
    {
     "data": {
      "image/png": "[encoded data removed]",
      "text/plain": [
       "<Figure size 432x288 with 1 Axes>"
      ]
     },
     "metadata": {},
     "output_type": "display_data"
    }
   ],
   "source": [
    "train_x['created_at'].dt.week.hist(alpha=0.5, label='created_at')\n",
    "train_x['updated_at'].dt.week.hist(alpha=0.5, label='updated_at')\n",
    "plt.title(\"Distribution of week\")\n",
    "plt.legend();"
   ]
  },
  {
   "cell_type": "code",
   "execution_count": 25,
   "metadata": {},
   "outputs": [
    {
     "data": {
      "image/png": "[encoded data removed]",
      "text/plain": [
       "<Figure size 432x288 with 1 Axes>"
      ]
     },
     "metadata": {},
     "output_type": "display_data"
    }
   ],
   "source": [
    "train_x['created_at'].dt.hour.hist(alpha=0.5, label='created_at')\n",
    "train_x['updated_at'].dt.hour.hist(alpha=0.5, label='updated_at')\n",
    "plt.title(\"Distribution of hour\")\n",
    "plt.legend();"
   ]
  },
  {
   "cell_type": "markdown",
   "metadata": {},
   "source": [
    "Distibution of \"minutes\" look slightly different for both. So I will create 2 features (\"minutes\" and \"seconds\") out of \"created_at\" and \"updated_at\" columns"
   ]
  },
  {
   "cell_type": "code",
   "execution_count": 26,
   "metadata": {},
   "outputs": [
    {
     "data": {
      "image/png": "[encoded data removed]",
      "text/plain": [
       "<Figure size 432x288 with 1 Axes>"
      ]
     },
     "metadata": {},
     "output_type": "display_data"
    }
   ],
   "source": [
    "train_x['created_at'].dt.minute.hist(alpha=0.5, label='created_at')\n",
    "train_x['updated_at'].dt.minute.hist(alpha=0.5, label='updated_at')\n",
    "plt.title(\"Distribution of minute\")\n",
    "plt.legend();"
   ]
  },
  {
   "cell_type": "code",
   "execution_count": 27,
   "metadata": {},
   "outputs": [],
   "source": [
    "train_x['created_at_day'] = train_x['created_at'].dt.day\n",
    "train_x['created_at_week'] = train_x['created_at'].dt.week\n",
    "train_x['created_at_hour'] = train_x['created_at'].dt.hour\n",
    "\n",
    "test_x['created_at_day'] = test_x['created_at'].dt.day\n",
    "test_x['created_at_week'] = test_x['created_at'].dt.week\n",
    "test_x['created_at_hour'] = test_x['created_at'].dt.hour\n",
    "\n",
    "\n",
    "train_x['created_at_mins'] = train_x['created_at'].dt.minute\n",
    "train_x['updated_at_mins'] = train_x['updated_at'].dt.minute\n",
    "\n",
    "test_x['created_at_mins'] = test_x['created_at'].dt.minute\n",
    "test_x['updated_at_mins'] = test_x['updated_at'].dt.minute\n",
    "\n",
    "\n",
    "train_x['created_at_secs'] = train_x['created_at'].dt.second\n",
    "train_x['updated_at_secs'] = train_x['updated_at'].dt.second\n",
    "\n",
    "test_x['created_at_secs'] = test_x['created_at'].dt.second\n",
    "test_x['updated_at_secs'] = test_x['updated_at'].dt.second"
   ]
  },
  {
   "cell_type": "code",
   "execution_count": 28,
   "metadata": {},
   "outputs": [],
   "source": [
    "### The below is to create the Pre-processed files to be fed into the LSTM model"
   ]
  },
  {
   "cell_type": "code",
   "execution_count": 29,
   "metadata": {},
   "outputs": [],
   "source": [
    "#train_x.to_csv('processed_train.csv', index=None)\n",
    "#test_x.to_csv('processed_test.csv', index=None)"
   ]
  },
  {
   "cell_type": "code",
   "execution_count": 30,
   "metadata": {},
   "outputs": [
    {
     "data": {
      "text/plain": [
       "(30885, 15)"
      ]
     },
     "execution_count": 30,
     "metadata": {},
     "output_type": "execute_result"
    }
   ],
   "source": [
    "test_x.shape"
   ]
  },
  {
   "cell_type": "code",
   "execution_count": 31,
   "metadata": {},
   "outputs": [
    {
     "data": {
      "text/plain": [
       "(2768, 15)"
      ]
     },
     "execution_count": 31,
     "metadata": {},
     "output_type": "execute_result"
    }
   ],
   "source": [
    "train_x.shape"
   ]
  },
  {
   "cell_type": "code",
   "execution_count": 32,
   "metadata": {},
   "outputs": [
    {
     "name": "stdout",
     "output_type": "stream",
     "text": [
      "Tests Passed\n"
     ]
    }
   ],
   "source": [
    "import nltk\n",
    "from nltk.corpus import stopwords\n",
    "from nltk.stem.porter import *\n",
    "from nltk.stem import WordNetLemmatizer\n",
    "from nltk.corpus import wordnet\n",
    "\n",
    "import re\n",
    "from bs4 import BeautifulSoup\n",
    "\n",
    "def process_text(text):\n",
    "    nltk.download(\"stopwords\", quiet=True)\n",
    "    stemmer = PorterStemmer()\n",
    "    \n",
    "    text = re.sub(r\"[^a-zA-Z]\", \" \", text.lower()) # Convert to lower case\n",
    "    words = text.split() # Split string into words\n",
    "    words = [w for w in words if w not in stopwords.words(\"english\")] # Remove stopwords\n",
    "    words = [PorterStemmer().stem(w) for w in words] # stem\n",
    "    #words = [WordNetLemmatizer().lemmatize(w, pos='v') for w in words]\n",
    "    \n",
    "    return \" \".join(words)\n",
    "\n",
    "tests.test_process_text(process_text)"
   ]
  },
  {
   "cell_type": "markdown",
   "metadata": {},
   "source": [
    "process_text function allows us to tokenize the words found in a window feature, for example, converting entertained and entertaining into entertain so that they are treated as though they are the same word. That's called stemming.\n",
    "\n",
    "This function converts the Uppercase words into the lower case. For example, Mountain has changed into mountain.\n",
    "\n",
    "This function removes stopwords. for example, common words like \"it\", \"this\", \"the\" have been removed.\n",
    "\n",
    "This method also splits the entire sentence into the words.\n",
    "\n",
    "A regular expression, or Regex for short, allows us to search for patterns in text in a fast and automated manner.\n",
    "\n",
    "text = re.sub(r\"[^a-zA-Z]\", \" \", text.lower())\n",
    "\n",
    "In above line of code, regex finds the pattern of text with alphabetical characters and so it removes the non-alphabetical characters like numbers, punctuation. The non-alphabetical characters have been removed from the text in the pre-processing steps.\n",
    "\n",
    "In the above line of code, I filled NAs with 'missingvaluesoverhere' here and applied process_text function across all the rows of \"window\" feature"
   ]
  },
  {
   "cell_type": "code",
   "execution_count": 40,
   "metadata": {},
   "outputs": [],
   "source": [
    "train_x['preprocessed_window'] = train_x['window'].fillna('missingvaluesoverhere').apply(process_text)\n",
    "test_x['preprocessed_window'] = test_x['window'].fillna('missingvaluesoverhere').apply(process_text)\n"
   ]
  },
  {
   "cell_type": "code",
   "execution_count": 41,
   "metadata": {},
   "outputs": [
    {
     "data": {
      "text/plain": [
       "0                                                      note\n",
       "34                                             blooper reel\n",
       "37                                       answer bright idea\n",
       "64                                               epic phase\n",
       "79        answer read book watch tv show movi late want ...\n",
       "88                                     missingvaluesoverher\n",
       "90                                     missingvaluesoverher\n",
       "93                                     missingvaluesoverher\n",
       "94                                      inbox messag unread\n",
       "97                                      inbox messag unread\n",
       "99                                             inbox messag\n",
       "119                                    missingvaluesoverher\n",
       "124                                    missingvaluesoverher\n",
       "133                                          welcom pycharm\n",
       "176       relax sunday morn indi folk pop playlist vol y...\n",
       "177                                                  youtub\n",
       "181                                                 new tab\n",
       "186                                miako odori googl search\n",
       "188                                    missingvaluesoverher\n",
       "189                                                     web\n",
       "444                                    missingvaluesoverher\n",
       "450                                    missingvaluesoverher\n",
       "452                                                   slack\n",
       "453                                    missingvaluesoverher\n",
       "454                                                day time\n",
       "455                                            slack memori\n",
       "835                                                   shell\n",
       "840                                                    bash\n",
       "843                                           ubuntu ip ssh\n",
       "848                              ubuntu ip time suggest ssh\n",
       "                                ...                        \n",
       "242335    cleanup pierrickatkyoto pull request time time...\n",
       "242402                               puls time time suggest\n",
       "242427                       commit activ time time suggest\n",
       "242519                               issu time time suggest\n",
       "242543                             branch time time suggest\n",
       "242618              log log facil python python rc document\n",
       "242625                                             calendar\n",
       "242626                                 missingvaluesoverher\n",
       "242636                        unsav workspac stori clubhous\n",
       "242683                        escap beauti chill mix youtub\n",
       "242686                                       ubuntu ip bash\n",
       "242694                                        contextu menu\n",
       "242699    microsoft word set cron job use crontab pedram...\n",
       "242737                                    zoom free account\n",
       "242738                                                 item\n",
       "242749    time suggest pycharmproject time suggest proje...\n",
       "243859                                 missingvaluesoverher\n",
       "243860                                  inbox messag unread\n",
       "243861                                  inbox messag unread\n",
       "243868                                         inbox messag\n",
       "243874                                         inbox messag\n",
       "243888                                         inbox messag\n",
       "243892                                         inbox messag\n",
       "243895                                         inbox messag\n",
       "243924                                         inbox messag\n",
       "243944                                                shell\n",
       "243945                                                 bash\n",
       "243947                                                 bash\n",
       "243953                                                shell\n",
       "243954                                              session\n",
       "Name: preprocessed_window, Length: 2768, dtype: object"
      ]
     },
     "execution_count": 41,
     "metadata": {},
     "output_type": "execute_result"
    }
   ],
   "source": [
    "train_x['preprocessed_window']"
   ]
  },
  {
   "cell_type": "markdown",
   "metadata": {},
   "source": [
    "#### Building Bag of Words of the above pre-processed text feature\n",
    "\n",
    "A bag of words technique uses a vocabulary consisting of the most frequently appearing words in a set of documents. Then, for each word in the vocabulary we record the number of times that word appears"
   ]
  },
  {
   "cell_type": "code",
   "execution_count": 42,
   "metadata": {},
   "outputs": [],
   "source": [
    "vectorizer = CountVectorizer(max_features=150) #max_features can be tuned\n",
    "X = vectorizer.fit(train_x['preprocessed_window'])"
   ]
  },
  {
   "cell_type": "code",
   "execution_count": 43,
   "metadata": {},
   "outputs": [],
   "source": [
    "train_text = pd.DataFrame(X.transform(train_x['preprocessed_window']).toarray(), index=train_x.index)\n",
    "train_text = train_text.rename(columns={v:k for k, v in X.vocabulary_.items()})\n",
    "\n",
    "test_text = pd.DataFrame(X.transform(test_x['preprocessed_window']).toarray(), index=test_x.index)\n",
    "test_text = test_text.rename(columns={v:k for k, v in X.vocabulary_.items()})"
   ]
  },
  {
   "cell_type": "code",
   "execution_count": 44,
   "metadata": {},
   "outputs": [
    {
     "data": {
      "text/plain": [
       "0                               note\n",
       "1                               note\n",
       "2                               note\n",
       "3              activ monitor process\n",
       "4               missingvaluesoverher\n",
       "5               missingvaluesoverher\n",
       "6               missingvaluesoverher\n",
       "7               missingvaluesoverher\n",
       "8               missingvaluesoverher\n",
       "9               missingvaluesoverher\n",
       "10              missingvaluesoverher\n",
       "11             activ monitor process\n",
       "12                                  \n",
       "13                              note\n",
       "14                              note\n",
       "15                              note\n",
       "16                              note\n",
       "17                              note\n",
       "18                              note\n",
       "19              missingvaluesoverher\n",
       "20                                  \n",
       "21                              note\n",
       "22                              note\n",
       "23                              note\n",
       "24               inbox messag unread\n",
       "25               inbox messag unread\n",
       "26                      inbox messag\n",
       "27                      inbox messag\n",
       "28                      inbox messag\n",
       "29                      inbox messag\n",
       "                    ...             \n",
       "30855    iheartmedia file bankruptci\n",
       "30856    iheartmedia file bankruptci\n",
       "30857    iheartmedia file bankruptci\n",
       "30858    iheartmedia file bankruptci\n",
       "30859    iheartmedia file bankruptci\n",
       "30860    iheartmedia file bankruptci\n",
       "30861    iheartmedia file bankruptci\n",
       "30862    iheartmedia file bankruptci\n",
       "30863    iheartmedia file bankruptci\n",
       "30864    iheartmedia file bankruptci\n",
       "30865    iheartmedia file bankruptci\n",
       "30866    iheartmedia file bankruptci\n",
       "30867    iheartmedia file bankruptci\n",
       "30868    iheartmedia file bankruptci\n",
       "30869    iheartmedia file bankruptci\n",
       "30870    iheartmedia file bankruptci\n",
       "30871    iheartmedia file bankruptci\n",
       "30872    iheartmedia file bankruptci\n",
       "30873    iheartmedia file bankruptci\n",
       "30874       iheartmedia googl search\n",
       "30875       iheartmedia googl search\n",
       "30876       iheartmedia googl search\n",
       "30877       iheartmedia googl search\n",
       "30878       iheartmedia googl search\n",
       "30879       iheartmedia googl search\n",
       "30880       iheartmedia googl search\n",
       "30881       iheartmedia googl search\n",
       "30882       iheartmedia googl search\n",
       "30883       iheartmedia googl search\n",
       "30884       iheartmedia googl search\n",
       "Name: preprocessed_window, Length: 30885, dtype: object"
      ]
     },
     "execution_count": 44,
     "metadata": {},
     "output_type": "execute_result"
    }
   ],
   "source": [
    "train_data = pd.concat([train_x, train_text], axis=1)\n",
    "test_data = pd.concat([test_x, test_text], axis=1)\n",
    "\n",
    "test_data['preprocessed_window']"
   ]
  },
  {
   "cell_type": "markdown",
   "metadata": {},
   "source": [
    "\n",
    "## Word embeddings\n",
    "\n",
    "When you're dealing with words in text, you end up with tens of thousands of classes to predict, one for each word. Trying to one-hot encode these words is massively inefficient, you'll have one element set to 1 and the other 50,000 set to 0. The resulting one-hot encoded matrix will have almost all of the resulting values be zero. This a huge waste of computation. \n",
    "\n",
    "<img src=\"lookup_matrix.png\">\n",
    "\n",
    "Instead of doing the matrix multiplication, we use the matrix as a lookup table. We encode the words as integers, for example \"heart\" is encoded as 958, \"mind\" as 18094. Then to get embeded values for \"heart\", you just take the 958th row of the embedding matrix. This process is called an **embedding lookup** and the number of embedding size is the **embedding dimension**.\n",
    "\n",
    "<img src=\"tokenize_lookup.png\" width=250>\n",
    " \n",
    " \n",
    "Embeddings aren't only used for words of course. You can use them for any model where you have a massive number of classes. A particular type of model called **Word2Vec** uses the embedding layer to find vector representations of words that contain semantic meaning.\n",
    "\n",
    "Reference https://github.com/udacity/deep-learning/blob/master/embeddings/Skip-Grams-Solution.ipynb\n"
   ]
  },
  {
   "cell_type": "code",
   "execution_count": null,
   "metadata": {},
   "outputs": [],
   "source": [
    "### Here's the lower level vectorized implementation of word embedding"
   ]
  },
  {
   "cell_type": "code",
   "execution_count": 45,
   "metadata": {},
   "outputs": [],
   "source": [
    "def embedding(train_col, test_col, num_embed):\n",
    "    one = OneHotEncoder(handle_unknown='ignore')\n",
    "    one.fit(train_col)\n",
    "    train_indices = one.transform(train_col).toarray()\n",
    "    embedding_mat = np.random.rand(train_indices.shape[1],num_embed)\n",
    "    \n",
    "    train_embed = pd.DataFrame(np.dot(train_indices, embedding_mat), \n",
    "                               index = train_col.index)\n",
    "    \n",
    "    test_indices = one.transform(test_col).toarray()\n",
    "    test_embed = pd.DataFrame(np.dot(test_indices, embedding_mat),\n",
    "                              index=test_col.index)\n",
    "    \n",
    "    return train_embed, test_embed"
   ]
  },
  {
   "cell_type": "markdown",
   "metadata": {},
   "source": [
    "### Here's the display of the embeded word representation\n",
    "\n",
    "```\n",
    "def embedding(train_col, test_col, num_embed):\n",
    "    one = OneHotEncoder(handle_unknown='ignore')\n",
    "    one.fit(train_col)\n",
    "    train_indices = one.transform(train_col).toarray()\n",
    "    embedding_mat = np.random.rand(train_indices.shape[1],num_embed)\n",
    "    \n",
    "    train_embed = pd.DataFrame(np.dot(train_indices, embedding_mat))\n",
    "    \n",
    "    test_indices = one.transform(test_col).toarray()\n",
    "    test_embed = pd.DataFrame(np.dot(test_indices, embedding_mat))\n",
    "    \n",
    "    return train_embed, test_embed\n",
    "```\n",
    "\n",
    "```\n",
    "col1 = np.array(['hello', 'cat', 'mouse', 'dog'])\n",
    "col2 = np.array(['dog', 'cat', 'mouse', 'hello'] )\n",
    "```"
   ]
  },
  {
   "cell_type": "code",
   "execution_count": 70,
   "metadata": {},
   "outputs": [
    {
     "data": {
      "text/html": [
       "<div>\n",
       "<style scoped>\n",
       "    .dataframe tbody tr th:only-of-type {\n",
       "        vertical-align: middle;\n",
       "    }\n",
       "\n",
       "    .dataframe tbody tr th {\n",
       "        vertical-align: top;\n",
       "    }\n",
       "\n",
       "    .dataframe thead th {\n",
       "        text-align: right;\n",
       "    }\n",
       "</style>\n",
       "<table border=\"1\" class=\"dataframe\">\n",
       "  <thead>\n",
       "    <tr style=\"text-align: right;\">\n",
       "      <th></th>\n",
       "      <th>0</th>\n",
       "      <th>1</th>\n",
       "      <th>2</th>\n",
       "    </tr>\n",
       "  </thead>\n",
       "  <tbody>\n",
       "    <tr>\n",
       "      <th>0</th>\n",
       "      <td>0.251996</td>\n",
       "      <td>0.413808</td>\n",
       "      <td>0.036066</td>\n",
       "    </tr>\n",
       "    <tr>\n",
       "      <th>1</th>\n",
       "      <td>0.100951</td>\n",
       "      <td>0.342217</td>\n",
       "      <td>0.225306</td>\n",
       "    </tr>\n",
       "    <tr>\n",
       "      <th>2</th>\n",
       "      <td>0.917061</td>\n",
       "      <td>0.915917</td>\n",
       "      <td>0.760909</td>\n",
       "    </tr>\n",
       "    <tr>\n",
       "      <th>3</th>\n",
       "      <td>0.599521</td>\n",
       "      <td>0.351375</td>\n",
       "      <td>0.222859</td>\n",
       "    </tr>\n",
       "  </tbody>\n",
       "</table>\n",
       "</div>"
      ],
      "text/plain": [
       "          0         1         2\n",
       "0  0.251996  0.413808  0.036066\n",
       "1  0.100951  0.342217  0.225306\n",
       "2  0.917061  0.915917  0.760909\n",
       "3  0.599521  0.351375  0.222859"
      ]
     },
     "execution_count": 70,
     "metadata": {},
     "output_type": "execute_result"
    }
   ],
   "source": [
    "#em = embedding(col1.reshape(-1,1), col2.reshape(-1,1), 3)\n",
    "#em[0]"
   ]
  },
  {
   "cell_type": "code",
   "execution_count": 71,
   "metadata": {},
   "outputs": [
    {
     "data": {
      "text/html": [
       "<div>\n",
       "<style scoped>\n",
       "    .dataframe tbody tr th:only-of-type {\n",
       "        vertical-align: middle;\n",
       "    }\n",
       "\n",
       "    .dataframe tbody tr th {\n",
       "        vertical-align: top;\n",
       "    }\n",
       "\n",
       "    .dataframe thead th {\n",
       "        text-align: right;\n",
       "    }\n",
       "</style>\n",
       "<table border=\"1\" class=\"dataframe\">\n",
       "  <thead>\n",
       "    <tr style=\"text-align: right;\">\n",
       "      <th></th>\n",
       "      <th>0</th>\n",
       "      <th>1</th>\n",
       "      <th>2</th>\n",
       "    </tr>\n",
       "  </thead>\n",
       "  <tbody>\n",
       "    <tr>\n",
       "      <th>0</th>\n",
       "      <td>0.599521</td>\n",
       "      <td>0.351375</td>\n",
       "      <td>0.222859</td>\n",
       "    </tr>\n",
       "    <tr>\n",
       "      <th>1</th>\n",
       "      <td>0.100951</td>\n",
       "      <td>0.342217</td>\n",
       "      <td>0.225306</td>\n",
       "    </tr>\n",
       "    <tr>\n",
       "      <th>2</th>\n",
       "      <td>0.917061</td>\n",
       "      <td>0.915917</td>\n",
       "      <td>0.760909</td>\n",
       "    </tr>\n",
       "    <tr>\n",
       "      <th>3</th>\n",
       "      <td>0.251996</td>\n",
       "      <td>0.413808</td>\n",
       "      <td>0.036066</td>\n",
       "    </tr>\n",
       "  </tbody>\n",
       "</table>\n",
       "</div>"
      ],
      "text/plain": [
       "          0         1         2\n",
       "0  0.599521  0.351375  0.222859\n",
       "1  0.100951  0.342217  0.225306\n",
       "2  0.917061  0.915917  0.760909\n",
       "3  0.251996  0.413808  0.036066"
      ]
     },
     "execution_count": 71,
     "metadata": {},
     "output_type": "execute_result"
    }
   ],
   "source": [
    "#em[1]"
   ]
  },
  {
   "cell_type": "markdown",
   "metadata": {},
   "source": [
    "#### Embedding has been applied to the \"name\" feature of the data. Because there were many unique words in the \"name\" column and one-hot encoding will result in many dimension so that's why I decided to apply embedding instead. "
   ]
  },
  {
   "cell_type": "code",
   "execution_count": 46,
   "metadata": {},
   "outputs": [],
   "source": [
    "## Embedding size is 30 which can be tuned\n",
    "train_app, test_app = embedding(train_data[['name']], test_data[['name']],  30)"
   ]
  },
  {
   "cell_type": "markdown",
   "metadata": {},
   "source": [
    "### Drop all the text/time based columns after extracting the useful/encoded features"
   ]
  },
  {
   "cell_type": "code",
   "execution_count": 47,
   "metadata": {},
   "outputs": [],
   "source": [
    "train_y = train_data['project_id']\n",
    "test_y = test_data['project_id']\n",
    "\n",
    "train_data.drop(['updated_at', 'created_at','name', 'window', 'preprocessed_window', 'project_id'], axis=1, inplace=True)\n",
    "test_data.drop(['updated_at', 'created_at', 'name', 'window', 'preprocessed_window', 'project_id'], axis=1, inplace=True)\n"
   ]
  },
  {
   "cell_type": "code",
   "execution_count": 48,
   "metadata": {},
   "outputs": [
    {
     "data": {
      "text/plain": [
       "(2768, 158)"
      ]
     },
     "execution_count": 48,
     "metadata": {},
     "output_type": "execute_result"
    }
   ],
   "source": [
    "train_data.shape"
   ]
  },
  {
   "cell_type": "code",
   "execution_count": 49,
   "metadata": {},
   "outputs": [
    {
     "data": {
      "text/plain": [
       "(30885, 158)"
      ]
     },
     "execution_count": 49,
     "metadata": {},
     "output_type": "execute_result"
    }
   ],
   "source": [
    "test_data.shape"
   ]
  },
  {
   "cell_type": "code",
   "execution_count": 50,
   "metadata": {},
   "outputs": [
    {
     "data": {
      "text/plain": [
       "array(['missing_apps', 'window_missing', 'update_duration',\n",
       "       'created_at_day', 'created_at_week', 'created_at_hour',\n",
       "       'created_at_mins', 'updated_at_mins', 'created_at_secs',\n",
       "       'updated_at_secs', 'accept', 'account', 'action', 'activ', 'adam',\n",
       "       'ai', 'amplitud', 'applic', 'auto', 'base', 'bash', 'beauti',\n",
       "       'branch', 'calendar', 'changelog', 'chill', 'clubhous', 'code',\n",
       "       'com', 'commit', 'compar', 'criterion', 'data', 'databas', 'day',\n",
       "       'develop', 'directori', 'document', 'download', 'dropout', 'end',\n",
       "       'engin', 'error', 'except', 'experi', 'file', 'finn', 'fix',\n",
       "       'free', 'fullstori', 'function', 'gener', 'get', 'git', 'github',\n",
       "       'gitpython', 'googl', 'gp', 'gradient', 'graph', 'guid',\n",
       "       'hierarchi', 'hour', 'id', 'inbox', 'integr', 'intercom', 'ip',\n",
       "       'issu', 'item', 'job', 'learn', 'linux', 'log', 'machin', 'manual',\n",
       "       'march', 'market', 'master', 'matplotlib', 'mean', 'meet',\n",
       "       'memori', 'merg', 'messag', 'miscellan', 'missingvaluesoverher',\n",
       "       'mix', 'model', 'multiprocess', 'music', 'mysql', 'network', 'new',\n",
       "       'numpi', 'open', 'oper', 'opportun', 'optim', 'os', 'overflow',\n",
       "       'per', 'pierrick', 'pierrickatkyoto', 'plot', 'png', 'process',\n",
       "       'project', 'protect', 'pull', 'py', 'pycharm', 'pycharmproject',\n",
       "       'pyhton', 'python', 'ratio', 'rc', 'reject', 'repositori',\n",
       "       'request', 'reset', 'scienc', 'scipi', 'search', 'session',\n",
       "       'share', 'shell', 'slack', 'ssh', 'stack', 'statu', 'stori',\n",
       "       'suggest', 'tab', 'tensorflow', 'test', 'tf', 'time', 'train',\n",
       "       'tutori', 'ubuntu', 'unread', 'unsav', 'untitl', 'use', 'user',\n",
       "       'util', 'vc', 'version', 'want', 'webinar', 'week', 'workabl',\n",
       "       'workbench', 'workspac', 'wrapper', 'youtub', 'zoom'], dtype=object)"
      ]
     },
     "execution_count": 50,
     "metadata": {},
     "output_type": "execute_result"
    }
   ],
   "source": [
    "train_data.columns.values"
   ]
  },
  {
   "cell_type": "markdown",
   "metadata": {},
   "source": [
    "### Concatenating dataframe with the embedding of the  \"name\" feature"
   ]
  },
  {
   "cell_type": "code",
   "execution_count": 51,
   "metadata": {},
   "outputs": [],
   "source": [
    "train_data = pd.concat([train_data, train_app], axis=1)\n",
    "test_data = pd.concat([test_data, test_app], axis=1)"
   ]
  },
  {
   "cell_type": "code",
   "execution_count": 58,
   "metadata": {},
   "outputs": [
    {
     "data": {
      "text/plain": [
       "(2768, 188)"
      ]
     },
     "execution_count": 58,
     "metadata": {},
     "output_type": "execute_result"
    }
   ],
   "source": [
    "train_data.shape"
   ]
  },
  {
   "cell_type": "code",
   "execution_count": 59,
   "metadata": {},
   "outputs": [
    {
     "data": {
      "text/plain": [
       "(30885, 188)"
      ]
     },
     "execution_count": 59,
     "metadata": {},
     "output_type": "execute_result"
    }
   ],
   "source": [
    "test_data.shape"
   ]
  },
  {
   "cell_type": "code",
   "execution_count": 60,
   "metadata": {},
   "outputs": [],
   "source": [
    "## One hot encoding the labels"
   ]
  },
  {
   "cell_type": "code",
   "execution_count": 61,
   "metadata": {},
   "outputs": [
    {
     "name": "stderr",
     "output_type": "stream",
     "text": [
      "/home/rahul/anaconda3/envs/drlnd/lib/python3.6/site-packages/sklearn/preprocessing/_encoders.py:368: FutureWarning: The handling of integer data will change in version 0.22. Currently, the categories are determined based on the range [0, max(values)], while in the future they will be determined based on the unique values.\n",
      "If you want the future behaviour and silence this warning, you can specify \"categories='auto'\".\n",
      "In case you used a LabelEncoder before this OneHotEncoder to convert the categories to integers, then you can now use the OneHotEncoder directly.\n",
      "  warnings.warn(msg, FutureWarning)\n"
     ]
    }
   ],
   "source": [
    "le = OneHotEncoder()\n",
    "train_y_enc = le.fit_transform(np.array(train_y).reshape(-1,1)).toarray()\n",
    "test_y_enc = le.transform(np.array(test_y).reshape(-1,1)).toarray()"
   ]
  },
  {
   "cell_type": "code",
   "execution_count": 62,
   "metadata": {},
   "outputs": [
    {
     "data": {
      "text/plain": [
       "(30885, 5)"
      ]
     },
     "execution_count": 62,
     "metadata": {},
     "output_type": "execute_result"
    }
   ],
   "source": [
    "test_y_enc.shape"
   ]
  },
  {
   "cell_type": "code",
   "execution_count": 63,
   "metadata": {},
   "outputs": [
    {
     "data": {
      "text/plain": [
       "(2768, 5)"
      ]
     },
     "execution_count": 63,
     "metadata": {},
     "output_type": "execute_result"
    }
   ],
   "source": [
    "train_y_enc.shape"
   ]
  },
  {
   "cell_type": "markdown",
   "metadata": {},
   "source": [
    "### What are the results on the test dataset?\n",
    "### Which model(s) did you select? Why?"
   ]
  },
  {
   "cell_type": "markdown",
   "metadata": {},
   "source": [
    "The below is the XGBoost Classifier's test dataset results in terms of confusion metrics where the minority samples are being classified to some extent. In the test data, there are only 2 class labels. Whereas in the training data there are 5 class labels."
   ]
  },
  {
   "cell_type": "markdown",
   "metadata": {},
   "source": [
    "XGBoost is an optimized distributed gradient boosting library designed to be highly efficient, flexible and portable. It implements machine learning algorithms under the Gradient Boosting framework. XGBoost provides a parallel tree boosting (also known as GBDT, GBM) that solve many data science problems in a fast and accurate way. \n",
    "\n",
    "It is an implementation of gradient boosting machines. Gradient boosting is an approach where new models are created that predict the residuals or errors of prior models and then added together to make the final prediction. It is called gradient boosting because it uses a gradient descent algorithm to minimize the loss when adding new models.\n",
    "\n",
    "In Boosting, \n",
    "1. we first model data with simple models and analyze data for errors. \n",
    "2. These errors signify data points that are difficult to fit by a simple model. \n",
    "3. Then for later models, we particularly focus on those hard to fit data to get them right. \n",
    "4. In the end, we combine all the predictors by giving some weights to each predictor.\n",
    "\n",
    "References;\n",
    "\n",
    "https://xgboost.readthedocs.io/en/latest/\n",
    "\n",
    "https://machinelearningmastery.com/gentle-introduction-xgboost-applied-machine-learning/\n",
    "\n",
    "https://medium.com/mlreview/gradient-boosting-from-scratch-1e317ae4587d"
   ]
  },
  {
   "cell_type": "code",
   "execution_count": 65,
   "metadata": {},
   "outputs": [],
   "source": [
    "def _print_results(clf):\n",
    "    print(\"model training accuracy score: %.3f\" % clf.score(train_data, train_y))\n",
    "    print(\"model testing accuracy score: %.3f\" % clf.score(test_data, np.array(test_y)))\n",
    "    test_pred = clf.predict(test_data)\n",
    "    print(\"model testing F1 score: %.3f\" % f1_score(test_y, test_pred, average='weighted'))\n",
    "    print(\"Printing Confusion Matrix\")\n",
    "    print(confusion_matrix(test_y, test_pred))"
   ]
  },
  {
   "cell_type": "code",
   "execution_count": 67,
   "metadata": {},
   "outputs": [
    {
     "data": {
      "text/plain": [
       "Pipeline(memory=None,\n",
       "     steps=[('classifier', XGBClassifier(base_score=0.5, booster='gbtree', colsample_bylevel=1,\n",
       "       colsample_bytree=1, eval_metric='merror', gamma=0, learning_rate=12,\n",
       "       max_delta_step=5.0, max_depth=9, min_child_weight=1, missing=None,\n",
       "       n_estimators=100, n_jobs=1, nthread=None,\n",
       "       objective='multi:softprob', random_state=0, reg_alpha=10.0,\n",
       "       reg_lambda=1, scale_pos_weight=1, seed=None, silent=True,\n",
       "       subsample=0.4))])"
      ]
     },
     "execution_count": 67,
     "metadata": {},
     "output_type": "execute_result"
    }
   ],
   "source": [
    "clf4 = Pipeline(steps=[('classifier', XGBClassifier(learning_rate=12, max_delta_step=5.0, reg_alpha= 10., \n",
    "                                                    max_depth=9,subsample = 0.4, objective=\"multi:softmax\", eval_metric=\"merror\"))])\n",
    "\n",
    "clf4.fit(train_data, train_y)"
   ]
  },
  {
   "cell_type": "code",
   "execution_count": 68,
   "metadata": {},
   "outputs": [
    {
     "name": "stdout",
     "output_type": "stream",
     "text": [
      "model training accuracy score: 0.812\n",
      "model testing accuracy score: 0.660\n",
      "model testing F1 score: 0.691\n",
      "Printing Confusion Matrix\n",
      "[[19626  1179   989  4316]\n",
      " [    0     0     0     0]\n",
      " [    0     0     0     0]\n",
      " [ 4010    13     0   752]]\n"
     ]
    },
    {
     "name": "stderr",
     "output_type": "stream",
     "text": [
      "/home/rahul/anaconda3/envs/drlnd/lib/python3.6/site-packages/sklearn/metrics/classification.py:1145: UndefinedMetricWarning: F-score is ill-defined and being set to 0.0 in labels with no true samples.\n",
      "  'recall', 'true', average, warn_for)\n"
     ]
    }
   ],
   "source": [
    "_print_results(clf4)"
   ]
  },
  {
   "cell_type": "markdown",
   "metadata": {},
   "source": [
    "##### The above is the confusion matrix. It gives more insight on the model performance than the condensed measures like F1, Recall and Precision score do in my opinion.\n",
    "\n",
    "The below is the hyper-parameter tuning by using GridSearchCV method."
   ]
  },
  {
   "cell_type": "code",
   "execution_count": 80,
   "metadata": {},
   "outputs": [],
   "source": [
    "clf5 = GridSearchCV(XGBClassifier(max_delta_step=5.0, reg_alpha= 10., max_depth=9,\n",
    "                                  subsample = 0.4, objective=\"multi:softmax\", \n",
    "                                  eval_metric=\"merror\"), \n",
    "                    param_grid={'learning_rate' : [0.1, 1.5, 10, 12, 20,]}, cv = 3)"
   ]
  },
  {
   "cell_type": "code",
   "execution_count": 81,
   "metadata": {},
   "outputs": [
    {
     "name": "stderr",
     "output_type": "stream",
     "text": [
      "/home/rahul/anaconda3/envs/drlnd/lib/python3.6/site-packages/sklearn/model_selection/_search.py:841: DeprecationWarning: The default of the `iid` parameter will change from True to False in version 0.22 and will be removed in 0.24. This will change numeric results when test-set sizes are unequal.\n",
      "  DeprecationWarning)\n"
     ]
    },
    {
     "data": {
      "text/plain": [
       "GridSearchCV(cv=3, error_score='raise-deprecating',\n",
       "       estimator=XGBClassifier(base_score=0.5, booster='gbtree', colsample_bylevel=1,\n",
       "       colsample_bytree=1, eval_metric='merror', gamma=0,\n",
       "       learning_rate=0.1, max_delta_step=5.0, max_depth=9,\n",
       "       min_child_weight=1, missing=None, n_estimators=100, n_jobs=1,\n",
       "       nthread=None, objective='multi:softmax', random_state=0,\n",
       "       reg_alpha=10.0, reg_lambda=1, scale_pos_weight=1, seed=None,\n",
       "       silent=True, subsample=0.4),\n",
       "       fit_params=None, iid='warn', n_jobs=None,\n",
       "       param_grid={'learning_rate': [0.1, 1.5, 10, 12, 20]},\n",
       "       pre_dispatch='2*n_jobs', refit=True, return_train_score='warn',\n",
       "       scoring=None, verbose=0)"
      ]
     },
     "execution_count": 81,
     "metadata": {},
     "output_type": "execute_result"
    }
   ],
   "source": [
    "clf5.fit(train_data, train_y)"
   ]
  },
  {
   "cell_type": "code",
   "execution_count": 82,
   "metadata": {},
   "outputs": [
    {
     "name": "stdout",
     "output_type": "stream",
     "text": [
      "model training accuracy score: 0.970\n",
      "model testing accuracy score: 0.722\n",
      "model testing F1 score: 0.709\n",
      "Printing Confusion Matrix\n",
      "[[22301  3809     0]\n",
      " [    0     0     0]\n",
      " [ 4775     0     0]]\n"
     ]
    },
    {
     "name": "stderr",
     "output_type": "stream",
     "text": [
      "/home/rahul/anaconda3/envs/drlnd/lib/python3.6/site-packages/sklearn/metrics/classification.py:1143: UndefinedMetricWarning: F-score is ill-defined and being set to 0.0 in labels with no predicted samples.\n",
      "  'precision', 'predicted', average, warn_for)\n",
      "/home/rahul/anaconda3/envs/drlnd/lib/python3.6/site-packages/sklearn/metrics/classification.py:1145: UndefinedMetricWarning: F-score is ill-defined and being set to 0.0 in labels with no true samples.\n",
      "  'recall', 'true', average, warn_for)\n"
     ]
    }
   ],
   "source": [
    "_print_results(clf5)"
   ]
  },
  {
   "cell_type": "markdown",
   "metadata": {},
   "source": [
    "### Visualization like below graph can be very important to tune the hyper-parameters. It shows the direction in which we should tune the values. For example, learning rate between 0.1 to 7.25 gives good performance but it does not give good performance on the minority samples. So there's a tradeoff that needs to be taken into the account. "
   ]
  },
  {
   "cell_type": "code",
   "execution_count": 88,
   "metadata": {},
   "outputs": [
    {
     "data": {
      "text/plain": [
       "Text(0.5, 0, 'learning rate')"
      ]
     },
     "execution_count": 88,
     "metadata": {},
     "output_type": "execute_result"
    },
    {
     "data": {
      "image/png": "[encoded data removed]",
      "text/plain": [
       "<Figure size 432x288 with 1 Axes>"
      ]
     },
     "metadata": {},
     "output_type": "display_data"
    }
   ],
   "source": [
    "y_ax = clf5.cv_results_['mean_test_score']\n",
    "x_ax = ma.getdata(clf5.cv_results_['param_learning_rate'])\n",
    "plt.plot(x_ax, y_ax)\n",
    "plt.ylabel(\"mean_test_AUC\")\n",
    "plt.xlabel(\"learning rate\")"
   ]
  },
  {
   "cell_type": "markdown",
   "metadata": {},
   "source": [
    "### Possibilities of the Future improvements;\n",
    "\n",
    "1. We can try out Bi-grams, Tri-grams for the sequential learning by the XGBoost ML model. CountVectorizer has the option of tokenizing the words into the n-gram \n",
    "https://scikit-learn.org/stable/modules/generated/sklearn.feature_extraction.text.CountVectorizer.html\n",
    "\n",
    "2. We can tune the embedding-size, number of max-feature from counter-vectorizer along with the ML model hyper-parameters tuning. \n",
    "\n",
    "3. We can also apply TF-IDF vectorizer instead of countvectorizer in which each of the tokens can be encoded with the TF-IDF weights. TFIDF shows the relative importance of a word or phrase in a document or a set of documents in comparison to the rest of your corpus. TF means the term frequency across all the corpus. IDF means the inverse document frequency which takes into the account specificity of the term in the specific documents. For example, words related to medical terms can only appear in the medical related documents but may not neccessarily be frequent words across the entire corpus. Hence IDF of the specific terms are used to put the weights."
   ]
  },
  {
   "cell_type": "code",
   "execution_count": null,
   "metadata": {},
   "outputs": [],
   "source": []
  }
 ],
 "metadata": {
  "kernelspec": {
   "display_name": "Python 3 (ipykernel)",
   "language": "python",
   "name": "python3"
  },
  "language_info": {
   "codemirror_mode": {
    "name": "ipython",
    "version": 3
   },
   "file_extension": ".py",
   "mimetype": "text/x-python",
   "name": "python",
   "nbconvert_exporter": "python",
   "pygments_lexer": "ipython3",
   "version": "3.10.9"
  }
 },
 "nbformat": 4,
 "nbformat_minor": 4
}
